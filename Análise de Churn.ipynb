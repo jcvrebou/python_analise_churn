{
 "cells": [
  {
   "cell_type": "markdown",
   "metadata": {},
   "source": [
    "# Python Insights - Analisando Dados com Python\n",
    "\n",
    "### Case - Cancelamento de Clientes\n",
    "\n",
    "Você foi contratado por uma empresa com mais de 800 mil clientes para um projeto de Dados. Recentemente a empresa percebeu que da sua base total de clientes, a maioria são clientes inativos, ou seja, que já cancelaram o serviço.\n",
    "\n",
    "Precisando melhorar seus resultados ela quer conseguir entender os principais motivos desses cancelamentos e quais as ações mais eficientes para reduzir esse número.\n",
    "\n",
    "Base de dados e arquivos: https://drive.google.com/drive/folders/1uDesZePdkhiraJmiyeZ-w5tfc8XsNYFZ?usp=drive_link"
   ]
  },
  {
   "cell_type": "markdown",
   "metadata": {},
   "source": [
    "Passo 1: Importar bibliotecas necessárias e armazenar a base de dados"
   ]
  },
  {
   "cell_type": "code",
   "execution_count": 15,
   "metadata": {},
   "outputs": [],
   "source": [
    "# Import de libs\n",
    "import pandas as pd\n",
    "import numpy as np\n",
    "\n",
    "# Estas libs foram instaladas antes do import\n",
    "# pip install plotly\n",
    "# pip install nbformat\n",
    "import plotly.express as px\n",
    "import nbformat"
   ]
  },
  {
   "cell_type": "code",
   "execution_count": 16,
   "metadata": {},
   "outputs": [],
   "source": [
    "\n",
    "tab_1 = pd.read_csv('cancelamentos_sample.csv')\n"
   ]
  },
  {
   "cell_type": "markdown",
   "metadata": {},
   "source": [
    "Passo 2: Visualizar a base de dados"
   ]
  },
  {
   "cell_type": "code",
   "execution_count": null,
   "metadata": {},
   "outputs": [],
   "source": [
    "# Obtendo insights\n",
    "\n",
    "tab_1.info() # Ver tipos de dados da tabela\n",
    "display(tab_1) # Visualizar tabela\n",
    "tab_1.head(10) # Ver as primeiras 10 linhas\n",
    "tab_1.duplicated() # Ver se há duplicidade de dados\n",
    "tab_1.nunique() # Ver quantidade de valores distintos\n",
    "tab_1.isnull().sum() # Quantidade de nulos por coluna"
   ]
  },
  {
   "cell_type": "markdown",
   "metadata": {},
   "source": [
    "Passo 3: Realizar o tratamento necessário para adequar a base de dados à análise"
   ]
  },
  {
   "cell_type": "code",
   "execution_count": 18,
   "metadata": {},
   "outputs": [],
   "source": [
    "# Excluir colunas consideradas desnecessárias\n",
    "tab_1 = tab_1.drop(columns='CustomerID')"
   ]
  },
  {
   "cell_type": "code",
   "execution_count": 19,
   "metadata": {},
   "outputs": [],
   "source": [
    "# Excluir linhas com dados nulos: neste caso isso foi feito por se tratar de apenas 5 linhas\n",
    "tab_1 = tab_1.dropna()"
   ]
  },
  {
   "cell_type": "markdown",
   "metadata": {},
   "source": [
    "Passo 4: Realizar análise exploratória acerca dos cancelamentos"
   ]
  },
  {
   "cell_type": "code",
   "execution_count": null,
   "metadata": {},
   "outputs": [],
   "source": [
    "# Verificando qde. de cancelamentos (1 = Sim, 0 = Não)\n",
    "\t# Selecionar coluna \"cancelou\"\n",
    "tab_1['cancelou'].value_counts()"
   ]
  },
  {
   "cell_type": "code",
   "execution_count": null,
   "metadata": {},
   "outputs": [],
   "source": [
    "# Verificando % de clientes por tipo de contrato\n",
    "\t# Selecionar coluna \"duracao_contrato\"\n",
    "tab_1['duracao_contrato'].value_counts(normalize=True)"
   ]
  },
  {
   "cell_type": "code",
   "execution_count": 23,
   "metadata": {},
   "outputs": [],
   "source": [
    "# Realizando agrupamento pela coluna \"duracao_contrato\" para obter novos insights\n",
    "\t# Exibindo média das colunas numéricas (há colunas de texto)\n",
    "agrupamento = tab_1.groupby('duracao_contrato').mean(numeric_only=True)"
   ]
  },
  {
   "cell_type": "markdown",
   "metadata": {},
   "source": [
    "- Ao realizar uma análise exploratória da base verificou-se que, todos os pedidos de cancelamento feitos por clientes do tipo de contrato \"Mensal\", foram executados. Ou seja, clientes com este tipo de contrato são os mais propensos à cancelamento."
   ]
  },
  {
   "cell_type": "code",
   "execution_count": null,
   "metadata": {},
   "outputs": [],
   "source": [
    "# Excluindo da base as linhas dos clientes com tipo de contrato \"Mensal\", afim de verificar o % de cancelamento sem este tipo.\n",
    "\n",
    "tab_1 = tab_1[tab_1[\"duracao_contrato\"] != \"Monthly\"]\n",
    "tab_1['cancelou'].value_counts(normalize=True)"
   ]
  },
  {
   "cell_type": "markdown",
   "metadata": {},
   "source": [
    "- Após a exclusão dos clientes com tipo de contrato \"Mensal\", o cancelamento reduziu cerca de 10 p.p. Saiu de 56% para 46%. Ou seja, esse tipo de contrato tem uma parcela significativa na base de cancelamentos, representando cerca de 20%.\n",
    "  \n",
    "- Levando em consideração que a base analisada representa todos os clientes atuais da empresa, então seria necessário rever a estratégia de vendas desse tipo de contrato (mensal), visto que todos os clientes que assinam, cancelam posteriormente."
   ]
  },
  {
   "cell_type": "code",
   "execution_count": null,
   "metadata": {},
   "outputs": [],
   "source": [
    "# Média dos indicadores sem os clientes do tipo de contrato \"Mensal\"\n",
    "agrupamento = tab_1.groupby('duracao_contrato').mean(numeric_only=True)\n",
    "display(agrupamento)"
   ]
  },
  {
   "cell_type": "markdown",
   "metadata": {},
   "source": [
    "Passo 5: Análise explanatória do cancelamento"
   ]
  },
  {
   "cell_type": "code",
   "execution_count": 36,
   "metadata": {},
   "outputs": [
    {
     "ename": "IndentationError",
     "evalue": "expected an indented block after 'for' statement on line 4 (343481176.py, line 5)",
     "output_type": "error",
     "traceback": [
      "\u001b[1;36m  Cell \u001b[1;32mIn[36], line 5\u001b[1;36m\u001b[0m\n\u001b[1;33m    grafico = px.histogram(tab_1, x=coluna, color='cancelou')\u001b[0m\n\u001b[1;37m    ^\u001b[0m\n\u001b[1;31mIndentationError\u001b[0m\u001b[1;31m:\u001b[0m expected an indented block after 'for' statement on line 4\n"
     ]
    }
   ],
   "source": [
    "\t# Criação de gráficos\n",
    "\t\t# Criando o mesmo tipo de gráfico para diversas variáveis (por idade, número de ligações, tipo de contrato...)\n",
    "\n",
    "for coluna in tab_1.columns:\n",
    "\tgrafico = px.histogram(tab_1, x=coluna, color='cancelou')\n",
    "\t\t# Exibir gráfico\n",
    "\tgrafico.show()"
   ]
  },
  {
   "cell_type": "markdown",
   "metadata": {},
   "source": [
    "# Conclusão"
   ]
  },
  {
   "cell_type": "markdown",
   "metadata": {},
   "source": [
    "- Todos os clientes com tipo de contrato \"Mensal\", realizaram cancelamento.\n",
    "\n",
    "- Os clientes que ligaram, em média, a partir de 4 vezes para o call center (reparo, dúvidas, etc), foram os que mais cancelaram posteriormente.\n",
    "\n",
    "- Clientes com inadimplência a partir de 20 dias, são mais propensos ao cancelamento. Aqui caberia identificar se o cancelamento é por parte da empresa ou por decisão do cliente. De qualquer forma, seria importante incrementar a política de cobrança.\n",
    "\n",
    "- Na hipótese de que os 3 itens acima fossem 100% eliminados da base, o % de cancelamento cairia para 18."
   ]
  },
  {
   "cell_type": "code",
   "execution_count": 37,
   "metadata": {},
   "outputs": [],
   "source": [
    "tab_1 = tab_1[tab_1['ligacoes_callcenter'] < 5]\n",
    "tab_1 = tab_1[tab_1['dias_atraso'] <= 20]"
   ]
  },
  {
   "cell_type": "code",
   "execution_count": 38,
   "metadata": {},
   "outputs": [
    {
     "data": {
      "text/plain": [
       "cancelou\n",
       "0.0    0.816462\n",
       "1.0    0.183538\n",
       "Name: proportion, dtype: float64"
      ]
     },
     "metadata": {},
     "output_type": "display_data"
    }
   ],
   "source": [
    "display(tab_1['cancelou'].value_counts(normalize=True))"
   ]
  }
 ],
 "metadata": {
  "kernelspec": {
   "display_name": "base",
   "language": "python",
   "name": "python3"
  },
  "language_info": {
   "codemirror_mode": {
    "name": "ipython",
    "version": 3
   },
   "file_extension": ".py",
   "mimetype": "text/x-python",
   "name": "python",
   "nbconvert_exporter": "python",
   "pygments_lexer": "ipython3",
   "version": "3.11.5"
  },
  "orig_nbformat": 4
 },
 "nbformat": 4,
 "nbformat_minor": 2
}
